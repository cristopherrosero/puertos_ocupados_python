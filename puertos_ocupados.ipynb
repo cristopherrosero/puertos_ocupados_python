{
 "cells": [
  {
   "attachments": {},
   "cell_type": "markdown",
   "metadata": {},
   "source": [
    "*ESCANER DE PUERTOS OCUPADOS PROCESOS EN EJECUCIÓN EN EL SISTEMA*"
   ]
  },
  {
   "attachments": {},
   "cell_type": "markdown",
   "metadata": {},
   "source": [
    "El código Python utiliza las bibliotecas *socket, psutil y tkinter* para obtener la *dirección IP del sistema* y una lista de todos los puertos utilizados por los procesos en ejecución en el sistema.\n",
    "\n",
    "La función *get_ip()* utiliza la biblioteca socket para obtener la *dirección IP del sistema*. La función *get_ports()* utiliza la biblioteca *psutil* para obtener una lista de todos los puertos que están siendo utilizados por procesos en ejecución en el sistema.\n",
    "\n",
    "Luego, se crea una ventana de Tkinter con dos cuadros de texto que muestran la dirección IP y la lista de puertos obtenida.\n",
    "\n",
    "En resumen, este programa muestra información útil sobre los puertos en uso y la dirección IP de tu sistema, lo que puede ser útil para solucionar problemas de red o para obtener una comprensión más detallada del sistema.\n"
   ]
  },
  {
   "attachments": {},
   "cell_type": "markdown",
   "metadata": {},
   "source": [
    "Instalación de Librerias"
   ]
  },
  {
   "cell_type": "code",
   "execution_count": null,
   "metadata": {},
   "outputs": [],
   "source": [
    "%pip install sockets psutil tk"
   ]
  },
  {
   "attachments": {},
   "cell_type": "markdown",
   "metadata": {},
   "source": [
    "Importamos librerias "
   ]
  },
  {
   "cell_type": "code",
   "execution_count": 9,
   "metadata": {},
   "outputs": [],
   "source": [
    "import socket\n",
    "import psutil\n",
    "import tkinter as tk"
   ]
  },
  {
   "attachments": {},
   "cell_type": "markdown",
   "metadata": {},
   "source": [
    "Obtener el nombre de la IP del sistema"
   ]
  },
  {
   "cell_type": "code",
   "execution_count": 10,
   "metadata": {},
   "outputs": [],
   "source": [
    "hostname = socket.gethostname()\n",
    "ip_address = socket.gethostbyname(hostname)"
   ]
  },
  {
   "attachments": {},
   "cell_type": "markdown",
   "metadata": {},
   "source": [
    "Crear la ventana de Tkinte"
   ]
  },
  {
   "cell_type": "code",
   "execution_count": null,
   "metadata": {},
   "outputs": [],
   "source": [
    "root = tk.Tk()\n",
    "root.geometry('400x300')\n",
    "root.title('Información de red')"
   ]
  },
  {
   "attachments": {},
   "cell_type": "markdown",
   "metadata": {},
   "source": [
    "Crear un widget de texto para mostrar la información"
   ]
  },
  {
   "cell_type": "code",
   "execution_count": 12,
   "metadata": {},
   "outputs": [],
   "source": [
    "text_widget = tk.Text(root)\n",
    "text_widget.pack(expand=True, fill='both')"
   ]
  },
  {
   "attachments": {},
   "cell_type": "markdown",
   "metadata": {},
   "source": [
    "Obtener los puertos ocupados y los servicios que se están ejecutando"
   ]
  },
  {
   "cell_type": "code",
   "execution_count": 13,
   "metadata": {},
   "outputs": [],
   "source": [
    "text_widget.insert('end', f'IP: {ip_address}\\n\\n')\n",
    "text_widget.insert('end', 'Puertos ocupados:\\n')\n",
    "for connection in psutil.net_connections():\n",
    "    if connection.status == 'LISTEN':\n",
    "        text_widget.insert('end', f'    {connection.laddr[1]} ({connection.laddr[0]})\\n')\n",
    "        try:\n",
    "            process = psutil.Process(connection.pid)\n",
    "            text_widget.insert('end', f'        {process.name()} ({process.pid})\\n')\n",
    "        except (psutil.AccessDenied, psutil.NoSuchProcess):\n",
    "            pass"
   ]
  },
  {
   "attachments": {},
   "cell_type": "markdown",
   "metadata": {},
   "source": [
    "Ejecutar la ventana de Tkinter\n"
   ]
  },
  {
   "cell_type": "code",
   "execution_count": null,
   "metadata": {},
   "outputs": [],
   "source": [
    "root.mainloop()"
   ]
  }
 ],
 "metadata": {
  "kernelspec": {
   "display_name": "Python 3",
   "language": "python",
   "name": "python3"
  },
  "language_info": {
   "codemirror_mode": {
    "name": "ipython",
    "version": 3
   },
   "file_extension": ".py",
   "mimetype": "text/x-python",
   "name": "python",
   "nbconvert_exporter": "python",
   "pygments_lexer": "ipython3",
   "version": "3.10.5"
  },
  "orig_nbformat": 4
 },
 "nbformat": 4,
 "nbformat_minor": 2
}
